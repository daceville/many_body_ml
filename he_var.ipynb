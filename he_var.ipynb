{
 "cells": [
  {
   "cell_type": "code",
   "execution_count": null,
   "metadata": {},
   "outputs": [],
   "source": [
    "#!/usr/bin/env python3\n",
    "# -*- coding: utf-8 -*-\n",
    "\"\"\"\n",
    "Created on Tue Dec 11 14:32:21 2018\n",
    "\n",
    "@author: dace\n",
    "\"\"\"\n",
    "\n",
    "from math import sqrt,factorial,exp\n",
    "import numpy as np\n",
    "from sympy.physics.wigner import wigner_3j, wigner_6j\n",
    "from matplotlib import pyplot as plt\n",
    "from scipy.stats import norm\n",
    "from scipy.special import gammainc,gamma\n",
    "from cubature import cubature\n",
    "\n",
    "\n",
    "def integrate(f,k,L,i,j,ip,jp,l):\n",
    "    max_r = 1\n",
    "    s = 0\n",
    "    h = 0.01\n",
    "    \n",
    "    for i_int in range( int(max_r*1./h) ):\n",
    "        for j_int in range( int(max_r*1./h) ):\n",
    "            try:\n",
    "                s += f(i_int*h,j_int*h,k,L,i,j,ip,jp,l)*h**2\n",
    "            except OverflowError as e:\n",
    "                print(\"Got Overflow: {}\".format(e))\n",
    "                print(i)\n",
    "                print(j)\n",
    "                print(ip)\n",
    "                print(jp)\n",
    "                raise OverflowError(e)\n",
    "    return s\n",
    "\n",
    "def f(t, k,L,i,j,ip,jp,l):\n",
    "    \"\"\"\n",
    "    Could use these definitions, just integrate twice-ish?\n",
    "    \"\"\"\n",
    "    t1,t2 = t\n",
    "    r1 = t1 / ( 1 - t1 )\n",
    "    r2 = t2 / ( 1 - t2 )\n",
    "    #return exp(-k*r1-k*r2)*r1**2*r2**2*min(r1,r2)**L/max(r1,r2)**(L+1)\n",
    "    if r1 > r2:\n",
    "        return exp(-k*(r1+r2))*k**(i+ip+j+jp+4*l)*r1**(i+j+2*l+2-L-1)*r2**(ip+jp+2*l+2+L)\n",
    "    elif r2 > r1:\n",
    "        return exp(-k*(r1+r2))*k**(i+ip+j+jp+4*l)*r1**(i+j+2*l+2+L)*r2**(ip+jp+2*l+2-L-1)\n",
    "    else:\n",
    "        return exp(-k*(r1+r2))*k**(i+ip+j+jp+4*l)*r1**(i+j+2*l+2+ip+jp+2*l+2-1)\n",
    "    \n",
    "def f_1(i,j,ip,jp,l,k):\n",
    "    pass\n",
    "\n",
    "def gen_F_L(m,L_min,L_max,l,k):\n",
    "    a = np.zeros(shape=(m,m,m,m))\n",
    "    for i in range(m):\n",
    "        for j in range(m):\n",
    "            for ip in range(m):\n",
    "                for jp in range(m):\n",
    "                    for L in range(L_min,L_max+1):\n",
    "                        # (-1) comes from phase factor in 3j\n",
    "                        xmin = (0,0)\n",
    "                        xmax = (1,1)\n",
    "                        args = (k,L,i,j,ip,jp,l)\n",
    "                        val, err = cubature(f,2,1,xmin,xmax,args)\n",
    "                        #a[i][j][ip][jp] += -2*2*2*2*integrate(f,k,L,i,j,ip,jp,l)*wigner_6j(0.5,0.5,0,0.5,0.5,L)*wigner_3j(0.5,L,0.5,-0.5,0,0.5)**2\n",
    "                        a[i][j][ip][jp] += -2*2*val*wigner_6j(0.5,0.5,0,0.5,0.5,L)*wigner_3j(0.5,L,0.5,-0.5,0,0.5)**2\n",
    "    return a\n",
    "\n",
    "def gen_d_k_F(m,L_min,L_max,l,k):\n",
    "    a = np.zeros(shape=(m,m,m,m))\n",
    "    for i in range(m):\n",
    "        for j in range(m):\n",
    "            for ip in range(m):\n",
    "                for jp in range(m):\n",
    "                    a[i][j][ip][jp] += 2*2*2*2\n",
    "    return 0\n",
    "        \n",
    "\n",
    "def delta(a,b):\n",
    "    return a==b\n",
    "\n",
    "def gradient_T(a_i,n_i,l,k):\n",
    "    grad = np.zeros(shape=a_i.shape)\n",
    "    for p in range( len(a_i) ):\n",
    "        for i in range( len(a_i) ):\n",
    "            for j in range( len(a_i) ):\n",
    "                grad[p]+= ( i**2+j*(j-1)-i*(1+2*j)-2*(1+l) )*gamma(1+i+j+2*l) * (a_i[i]*delta(j,p) + a_i[j]*delta(i,p))\n",
    "    return grad /(4*k)\n",
    "\n",
    "def expectation_T(a_i,n_i,l,k):\n",
    "    energy = 0\n",
    "    for i in range( len(a_i) ):\n",
    "        total = 0\n",
    "        for j in range( len(a_i) ):\n",
    "            total += a_i[j]*( i**2+j*(j-1)-i*(1+2*j)-2*(1+l) )*gamma(1+i+j+2*l) \n",
    "        energy += total*a_i[i]/(4*k)\n",
    "    return energy\n",
    "\n",
    "def k_grad_T(a_i,n_i,l,k):\n",
    "    grad = expectation_T(a_i,n_i,l,k)*(-1./(4*k**2))\n",
    "    return grad\n",
    "\n",
    "def true_k_grad_T(a_i,n_i,l,k):\n",
    "    return 2*n_i*k_grad_norm(a_i,k,l)*expectation_T(a_i,n_i,l,k) + k_grad_T(a_i,n_i,l,k)*n_i**2\n",
    "\n",
    "def true_grad_T(a_i,n_i,l,k):\n",
    "    grad = 2*n_i*grad_norm(a_i,k,l)*expectation_T(a_i,n_i,l,k) + abs(n_i)**2*gradient_T(a_i,n_i,l,k)\n",
    "    return grad\n",
    "\n",
    "def gradient_1_r(a_i,n_i,l,k):\n",
    "    grad = np.zeros(shape=a_i.shape)\n",
    "    m = len(a_i)-1\n",
    "    for p in range(m+1):\n",
    "        total = 0\n",
    "        for j in range(m+1):\n",
    "            for i in range(m+1):\n",
    "                total+= gamma(i+j+2*l+2)*( a_i[j]*delta(i,p) + a_i[i]*delta(j,p) )\n",
    "        grad[p] = total/k**2\n",
    "        \n",
    "    return grad\n",
    "\n",
    "def expectation_1_r(a_i,n_i,l,k):\n",
    "    energy = 0\n",
    "    m = len(a_i)-1\n",
    "    for i in range(m+1):\n",
    "        for j in range(m+1):\n",
    "            energy+= gamma(i+j+2*l+2)*a_i[i]*a_i[j]\n",
    "        \n",
    "    return energy/k**2\n",
    "\n",
    "def k_grad_1_r(a_i,n_i,l,k):\n",
    "    grad = expectation_1_r(a_i,n_i,l,k)*(-2./k)\n",
    "    return grad\n",
    "\n",
    "def true_k_grad_1_r(a_i,n_i,l,k):\n",
    "    return 2*n_i*k_grad_norm(a_i,k,l)*expectation_1_r(a_i,n_i,l,k) + k_grad_1_r(a_i,n_i,l,k)*n_i**2\n",
    "                \n",
    "def true_grad_1_r(a_i,n_i,l,k):\n",
    "    grad = np.zeros(shape=a_i.shape)\n",
    "    grad = 2*abs( n_i )*abs( grad_norm(a_i,k,l) )*expectation_1_r(a_i,n_i,l,k) + n_i**2*gradient_1_r(a_i,n_i,l,k)\n",
    "    return grad\n",
    "\n",
    "def gradient_d_rdr(a_i,n_i,l,k):\n",
    "    grad = np.zeros(shape=a_i.shape)\n",
    "    m = len(a_i)-1\n",
    "    for p in range(m+1):\n",
    "        total = 0\n",
    "        for j in range(m+1):\n",
    "            for i in range(m+1):\n",
    "                total += (i-j-1)*factorial(i+j+2*l)/2*( a_i[j]*delta(i,p) + a_i[i]*delta(j,p) )\n",
    "        grad[p] = total/k\n",
    "    return grad\n",
    "\n",
    "def expectation_d_rdr(a_i,n_i,l,k):\n",
    "    energy = 0\n",
    "    m = len(a_i)-1\n",
    "    for j in range(m+1):\n",
    "        total = 0\n",
    "        for i in range(m+1):\n",
    "            total += a_i[i]*(i-j-1)*factorial(i+j+2*l)/2\n",
    "        energy+= a_i[j]*total/k\n",
    "    return energy\n",
    "\n",
    "def true_grad_d_rdr(a_i,n_i,l,k):\n",
    "    grad = np.zeros(shape=a_i.shape)\n",
    "    grad = 2*abs(n_i)*abs( grad_norm(a_i,k,l) )*grad_norm(a_i,k,l)*expectation_d_rdr(a_i,n_i,l,k) + n_i**2*gradient_d_rdr(a_i,n_i,l,k)\n",
    "    return grad\n",
    "        \n",
    "\n",
    "def gradient_1_r_2(a_i,n_i,l,k):\n",
    "    grad = np.zeros(shape=a_i.shape)\n",
    "    for i in range(len(a_i)):\n",
    "        total = 0\n",
    "        for j in range(len(a_i)):\n",
    "            total += a_i[j]*factorial(i+j+2*l-1)*(1+delta(i,j))*1./(k**(i+j+2*l-1)) # probably k not 1/k**(...)\n",
    "        grad[i] = total*n_i**2\n",
    "        \n",
    "    return grad\n",
    "\n",
    "def gradient_d2_dr2(a_i,n_i,l,k):\n",
    "    grad = np.zeros(shape=a_i.shape)\n",
    "    m = len(a_i)-1\n",
    "    for p in range(m+1):        \n",
    "        total = 0\n",
    "        for j in range(m+1):\n",
    "            for i in range(m+1):\n",
    "                total+= factorial(i+j+2*l)*( 2+i**2+j*(3+j)-i*(5+2*j)-2*l )*( a_i[j]*delta(i,p) + a_i[i]*delta(j,p) )\n",
    "        grad[p] = total\n",
    "        \n",
    "    return grad/(8*k)\n",
    "\n",
    "def expectation_d2_dr2(a_i,n_i,l,k):\n",
    "    energy = 0\n",
    "    m = len(a_i)-1\n",
    "    for j in range(m+1):\n",
    "        total = 0\n",
    "        for i in range(m+1):\n",
    "            total+= a_i[i]*factorial(i+j+2*l)*( 2+i**2+j*(3+j)-i*(5+2*j)-2*l )\n",
    "        energy += a_i[j]*total\n",
    "        \n",
    "    return energy/(8*k)\n",
    "\n",
    "def true_grad_d2_dr2(a_i,n_i,l,k):\n",
    "    grad = np.zeros(shape=a_i.shape)\n",
    "    grad = 2*abs(n_i)*abs( grad_norm(a_i,k,l) )*grad_norm(a_i,k,l)*expectation_d2_dr2(a_i,n_i,l,k) + n_i**2*gradient_d2_dr2(a_i,n_i,l,k)\n",
    "    return grad\n",
    "\n",
    "def gradient_1_r1_r2(a_i,a_f,n_i,l,k):\n",
    "    grad = np.zeros(shape=a_i.shape)\n",
    "    for p in range(len(a_i)):\n",
    "        total = 0\n",
    "        for j in range(len(a_i)):\n",
    "            for i in range(len(a_i)):\n",
    "                for jp in range(len(a_i)):\n",
    "                    for ip in range(len(a_i)):\n",
    "                        total += a_f[i][j][ip][jp]*(  a_i[i]*a_i[j]*a_i[ip]*delta(jp,p)\n",
    "                                                    + a_i[i]*a_i[j]*a_i[jp]*delta(ip,p)\n",
    "                                                    + a_i[i]*a_i[ip]*a_i[jp]*delta(j,p) \n",
    "                                                    + a_i[j]*a_i[ip]*a_i[jp]*delta(i,p) )\n",
    "        grad[p] = total\n",
    "    return grad\n",
    "\n",
    "def expectation_1_r1_r2(a_i,a_f,n_i,l,k):\n",
    "    energy = 0\n",
    "    for j in range(len(a_i)):\n",
    "        total = 0\n",
    "        for i in range(len(a_i)):\n",
    "            for jp in range(len(a_i)):\n",
    "                for ip in range(len(a_i)):\n",
    "                    total += a_f[i][j][ip][jp]*a_i[jp]*a_i[ip]*a_i[j]*a_i[i]\n",
    "        energy += total\n",
    "    return energy\n",
    "\n",
    "def true_grad_1_r1_r2(a_i,a_f,n_i,l,k):\n",
    "    grad = np.zeros(shape=a_i.shape)\n",
    "    grad = 4*n_i**3*abs( grad_norm(a_i,k,l) )*expectation_1_r1_r2(a_i,a_f,n_i,l,k) + n_i**4*gradient_1_r1_r2(a_i,a_f,n_i,l,k)\n",
    "    return grad\n",
    "\n",
    "def norm_sum(a_i,k,l):\n",
    "    norm_sum = 0\n",
    "    for i in range(len(a_i)):\n",
    "        for j in range(len(a_i)):\n",
    "            norm_sum += a_i[i]*a_i[j]*factorial(i+j+2*l+2)\n",
    "    return norm_sum\n",
    "\n",
    "def get_norm(a_i,k,l):\n",
    "    return k**(3./2)/sqrt( abs( norm_sum(a_i,k,l) ) )\n",
    "\n",
    "def grad_norm(a_i,k,l):\n",
    "    grad = np.zeros(shape=a_i.shape)\n",
    "    m = len(a_i)-1\n",
    "    for p in range(m+1):\n",
    "        total = 0\n",
    "        for j in range(m+1):\n",
    "            for i in range(m+1):\n",
    "                total += factorial(i+j+2*l+2)*( a_i[j]*delta(i,p) + a_i[i]*delta(j,p) )\n",
    "        grad[p] = -total*k**(3./2)\n",
    "    return grad / ( 2*abs( norm_sum(a_i,k,l) )**(3./2) )\n",
    "\n",
    "def k_grad_norm(a_i,k,l):\n",
    "    return 3./2*k**0.5 / sqrt( norm_sum(a_i,k,l) )\n",
    "\n",
    "def inner_prod(a_i,a_j,l,k):\n",
    "    p = 0\n",
    "    for i in range(len(a_i)):\n",
    "        for ip in range(len(a_i)):\n",
    "            for j in range(len(a_j)):\n",
    "                for jp in range(len(a_j)):\n",
    "                    p+= a_i[i]*a_i[ip]*a_j[j]*a_j[jp] * factorial(i+j+ip+jp+2*l+2) / k\n",
    "    return p\n",
    "\n",
    "def grad_inner_prod(a_i,a_j,l,k):\n",
    "    pass"
   ]
  },
  {
   "cell_type": "code",
   "execution_count": 434,
   "metadata": {},
   "outputs": [
    {
     "data": {
      "text/plain": [
       "0.0636525009169707"
      ]
     },
     "execution_count": 434,
     "metadata": {},
     "output_type": "execute_result"
    }
   ],
   "source": [
    "integrate(f,1,0,0,0,0,0,0)"
   ]
  },
  {
   "cell_type": "code",
   "execution_count": 874,
   "metadata": {},
   "outputs": [],
   "source": [
    "def get_energies(N_energies, plot=False):\n",
    "    energies = []\n",
    "    for n in range(N_energies):\n",
    "        energies.append( get_energy(n, plot) )\n",
    "    mu, std = norm.fit(energies)\n",
    "    xmin, xmax = plt.xlim()\n",
    "    x = np.linspace(xmin, xmax, 100)\n",
    "    p = norm.pdf(x, mu, std)\n",
    "    plt.figure(1)\n",
    "    plt.plot(x, p, 'k', linewidth=2)\n",
    "    _ = plt.hist(energies, density=True)\n",
    "    print(\"Energy={} +- {}\".format(mu,std))\n",
    "\n",
    "def get_energy(n_e, plot=False):\n",
    "    #print(\"Beginning simulation...\")\n",
    "    N = 1e4\n",
    "    learning_rate = 1e-6\n",
    "    bin_num=1\n",
    "    tol = 1e-3\n",
    "    m = 5\n",
    "    L_min=0\n",
    "    L_max=2\n",
    "    l=0\n",
    "    Z=1\n",
    "    hbarc = 197.3\n",
    "    alpha = 1./137\n",
    "    me=511e3\n",
    "    a0=hbarc/(me*alpha)\n",
    "    k = 2*Z/a0\n",
    "    #a_i = np.random.normal(1,1,m)\n",
    "    a_i = np.ones(m) #+ np.random.normal(0,0.0001,m)\n",
    "    for i in range(len(a_i)):\n",
    "       a_i[i] = (-1)**i*abs(a_i[i])/factorial(i)\n",
    "    norm = get_norm(a_i,k,l)\n",
    "    grad_1_r = -Z*hbarc*alpha*true_grad_1_r(a_i,norm,l,k)\n",
    "    grad_d2_dr2 = - true_grad_d2_dr2(a_i,norm,l,k)/2\n",
    "    grad_d_rdr = -true_grad_d_rdr(a_i,norm,l,k)\n",
    "    grad = grad_1_r + grad_d2_dr2 + grad_d_rdr\n",
    "    energy_history = []\n",
    "    n=0\n",
    "    while abs(np.linalg.norm(grad)) > 0.01 and n < N:\n",
    "        n += 1\n",
    "        a_vec_prime = np.zeros(shape=a_i.shape)\n",
    "        a_vec_prime = a_i - learning_rate*grad\n",
    "        a_i = a_vec_prime    \n",
    "        norm = get_norm(a_i,k,l)\n",
    "        #grad = -2*Z*hbarc*alpha*gradient_1_r(a_vec,norm,l,k) + hbarc*alpha*gradient_1_r1_r2(a_vec,a_f,norm,l,k) + gradient_d2_dr2(a_vec,norm,l,k)\n",
    "        grad = -Z*hbarc*alpha*true_grad_1_r(a_i,norm,l,k)*m + hbarc*alpha*true_grad_1_r1_r2(a_i,a_f,norm,l,k)\n",
    "        #grad+= grad**3\n",
    "        #grad = -Z*hbarc*alpha*gradient_1_r(a_i,norm,l,k) \n",
    "        #learning_rate *= 1 - 0.1*(n%100==0)\n",
    "        if n%bin_num==0:\n",
    "            energy = (- m*Z*hbarc*alpha*expectation_1_r(a_i,norm,l,k) + hbarc*alpha*expectation_1_r1_r2(a_i,a_f,norm,l,k) ) * norm**2\n",
    "            #energy = (- m*Z*hbarc*alpha*expectation_1_r(a_i,norm,l,k)) *  norm**2\n",
    "            energy_history.append(energy)\n",
    "            diff = abs( 1 - energy_history[len(energy_history)-2]/energy)\n",
    "            #if diff < tol**2 and n > bin_num+1:\n",
    "            #    break\n",
    "            #if diff < tol and n > bin_num:\n",
    "            #    learning_rate *= 1e-3\n",
    "        needbreak = np.isnan(grad)\n",
    "        if True in needbreak:\n",
    "            print(\"Found nan in grad, breaking.\")\n",
    "            break\n",
    "    energy = -( expectation_d2_dr2(a_i,norm,l,k) + expectation_d_rdr(a_i,norm,l,k) + m*Z*hbarc*alpha*expectation_1_r(a_i,norm,l,k) ) * norm**2\n",
    "    if plot:\n",
    "        plt.figure(n_e)\n",
    "        plt.plot(energy_history)\n",
    "    print(\"E: {}\".format(-energy) )\n",
    "    print(\"T2:{}\".format( -(expectation_d2_dr2(a_i,norm,l,k)/2)*norm**2 ) )\n",
    "    print(\"T1:{}\".format( -(expectation_d_rdr(a_i,norm,l,k)*norm**2 )))\n",
    "    print(\"V: {}\".format( -m*Z*hbarc*alpha*expectation_1_r(a_i,norm,l,k)*norm**2 ) )\n",
    "    print(\"V_grad:\")\n",
    "    print( -Z*hbarc*alpha*gradient_1_r(a_i,norm,l,k) )\n",
    "    print(\"V_norm:\")\n",
    "    print( abs(np.linalg.norm(grad)) )\n",
    "    return energy"
   ]
  },
  {
   "cell_type": "code",
   "execution_count": 71,
   "metadata": {},
   "outputs": [],
   "source": [
    "m = 3\n",
    "N = 1e4\n",
    "#learning_rate = np.array([10**i for i in range(m)])\n",
    "bin_num=1\n",
    "tol = 1e-3\n",
    "L_min=0\n",
    "L_max=0\n",
    "l=0\n",
    "Z=2\n",
    "hbarc = 197.3697\n",
    "alpha = 1./137.035999139\n",
    "me = 510998.9461\n",
    "a0 = hbarc / ( me * alpha )\n",
    "k = 2*Z/(a0)"
   ]
  },
  {
   "cell_type": "code",
   "execution_count": 72,
   "metadata": {},
   "outputs": [],
   "source": [
    "a_f = gen_F_L( m,L_min,L_max,l,k )"
   ]
  },
  {
   "cell_type": "code",
   "execution_count": 73,
   "metadata": {
    "scrolled": true
   },
   "outputs": [
    {
     "name": "stdout",
     "output_type": "stream",
     "text": [
      "Beginning simulation...\n",
      "Generating a_vec\n",
      "Initial norm:18.05667542700382\n",
      "Initial a_i vector:\n",
      "[2.78360487 0.66517615 1.14280427]\n",
      "Generating initial gradients:\n",
      "[ -17.69396869  -68.03035818 -347.59650419]\n",
      "[ 13.08920785  58.90897267 318.58974097]\n",
      "[-0.04729102  2.51634202 -1.3494622 ]\n",
      "-0.5422387103473364\n",
      "initial estimate of energy:\n",
      "-9.348189408560705\n",
      "+-----------------------+\n",
      "n=100\n",
      "-62.202660100090974\n",
      "+-----------------------+\n",
      "n=200\n",
      "-62.14433057141737\n",
      "+-----------------------+\n",
      "n=300\n",
      "-62.0927360873215\n",
      "+-----------------------+\n",
      "n=400\n",
      "-62.04667221520762\n",
      "+-----------------------+\n",
      "n=500\n",
      "-62.00521606102481\n",
      "+-----------------------+\n",
      "n=600\n",
      "-61.96764692935075\n",
      "+-----------------------+\n",
      "n=700\n",
      "-61.933392706192464\n",
      "+-----------------------+\n",
      "n=800\n",
      "-61.90199265556971\n",
      "+-----------------------+\n",
      "n=900\n",
      "-61.87307100366662\n",
      "+-----------------------+\n",
      "n=1000\n",
      "-61.84631779839626\n",
      "Finished; total iterations: 1001\n",
      "Final 'a' gradient:\n",
      "[-0.00059541 -0.0020274  -0.01058176]\n",
      "Final 'k' gradient:\n",
      "-0.5422387103473364\n",
      "Final Energies:\n",
      "E: -61.8412895033503\n",
      "T1: 108.15012532466376\n",
      "V1: -221.60863895625533\n",
      "V2: 51.61722412824127\n",
      "Final a_i vector:\n",
      "[ 5351.18946078  8975.88437402 42725.6928416 ]\n",
      "Final k:\n",
      "75.57268356242166\n"
     ]
    }
   ],
   "source": [
    "print(\"Beginning simulation...\")\n",
    "N = 1e3\n",
    "#learning_rate = np.array([10**i for i in range(m)])\n",
    "bin_num=1\n",
    "tol = 1e-3\n",
    "L_min=0\n",
    "L_max=0\n",
    "l=0\n",
    "Z=2\n",
    "hbarc = 197.3697\n",
    "alpha = 1./137.035999139\n",
    "me = 510998.9461\n",
    "a0 = hbarc / ( me * alpha )\n",
    "#print(\"Generating a_f\")\n",
    "#a_f = gen_F_L(m,L_min,L_max,l,k)\n",
    "print(\"Generating a_vec\")\n",
    "a_i = np.random.normal(-1,1,m)\n",
    "for i in range(len(a_i)):\n",
    "    a_i[i] = abs(a_i[i])\n",
    "norm = get_norm(a_i,k,l)\n",
    "print(\"Initial norm:{}\".format(norm))\n",
    "print(\"Initial a_i vector:\")\n",
    "print(a_i)\n",
    "print(\"Generating initial gradients:\")\n",
    "grad_1_r = -Z*hbarc*alpha*true_grad_1_r(a_i,norm,l,k)*m\n",
    "print(grad_1_r)\n",
    "grad_1_r1_r2 = hbarc*alpha*true_grad_1_r1_r2(a_i,a_f,norm,l,k)*(2*m-1)\n",
    "print(grad_1_r1_r2)\n",
    "grad_T = -hbarc**2/me*true_grad_T(a_i,norm,l,k)*(2*m-1)/2\n",
    "print(grad_T)\n",
    "k_grad = -Z*hbarc*alpha*true_k_grad_1_r(a_i,norm,l,k) - hbarc**2/me * k_grad_T(a_i,norm,l,k)/2\n",
    "print(k_grad)\n",
    "\n",
    "print(\"initial estimate of energy:\")\n",
    "print( ( -Z*hbarc*alpha*expectation_1_r(a_i,norm,l,k)-hbarc**2/me*expectation_T(a_i,norm,l,k) + hbarc*alpha*expectation_1_r1_r2(a_i,a_f,norm,l,k)*norm**2 )*norm**2 )\n",
    "#print( ( -Z*hbarc*alpha*expectation_1_r(a_i,norm,l,k) - hbarc**2/me*expectation_T(a_i,norm,l,k)/2 )*norm**2 )\n",
    "\n",
    "grad = grad_1_r + grad_T + grad_1_r1_r2\n",
    "learning_rate = 1e+3\n",
    "\n",
    "a_i -= learning_rate * grad\n",
    "#k   -= k_grad\n",
    "energy_history = []\n",
    "n=0\n",
    "grad_n = abs( np.linalg.norm(grad) )\n",
    "while grad_n > tol or k_grad > tol or n < 10: #Final 'or' demands that 10 iterations occur\n",
    "    grad_n = abs(np.linalg.norm(grad))\n",
    "    norm = get_norm(a_i,k,l)\n",
    "    grad = 2*-Z*hbarc*alpha*true_grad_1_r(a_i,get_norm(a_i,k,l),l,k)*m\n",
    "    grad-= 2*hbarc**2/me *true_grad_T(a_i,get_norm(a_i,k,l),l,k)*m/2\n",
    "    grad+= hbarc*alpha*true_grad_1_r1_r2(a_i,a_f,norm,l,k)*(2*m-1)\n",
    "    #k_grad = -Z*hbarc*alpha*true_k_grad_1_r(a_i,norm,l,k) - hbarc**2/me * true_k_grad_T(a_i,norm,l,k)/2 # might be positive because of \"wo\" ?\n",
    "    \n",
    "    #grad+= grad**3 # 'balances' the gradient\n",
    "    n += 1\n",
    "    if n > N:\n",
    "        break\n",
    "    a_vec_prime = np.zeros(shape=a_i.shape)\n",
    "    a_vec_prime = a_i - learning_rate*grad\n",
    "    #k -= k_grad\n",
    "    a_i = a_vec_prime\n",
    "    #norm = get_norm(a_i,k,l)\n",
    "    energy = 2*-hbarc*alpha*Z*expectation_1_r(a_i,get_norm(a_i,k,l),l,k)*m\n",
    "    energy-= 2*hbarc**2/me *expectation_T(a_i,get_norm(a_i,k,l),l,k)*(2*m-1)/2\n",
    "    energy+= hbarc*alpha*expectation_1_r1_r2(a_i,a_f,norm,l,k)*norm**2*(2*m-1)\n",
    "    energy*= norm**2\n",
    "    energy_history.append( energy )\n",
    "    needbreak = np.isnan( grad.any() ) or np.isnan( k_grad )\n",
    "    if n%100==0:\n",
    "        print(\"+-----------------------+\")\n",
    "        print(\"n={}\".format(n))\n",
    "        print(energy)\n",
    "        #print(k)\n",
    "    if needbreak:\n",
    "        print(\"Found nan in grad, breaking.\")\n",
    "        break\n",
    "norm = get_norm(a_i,k,l)\n",
    "print(\"Finished; total iterations: {}\".format(n))        \n",
    "print(\"Final 'a' gradient:\")\n",
    "print(grad)\n",
    "print(\"Final 'k' gradient:\")\n",
    "print(k_grad)\n",
    "print(\"Final Energies:\")\n",
    "energy = 2*( -Z*hbarc*alpha*expectation_1_r(a_i,norm,l,k)*m - hbarc**2/me*expectation_T(a_i,norm,l,k)*(2*m-1)/2 + hbarc*alpha*expectation_1_r1_r2(a_i,a_f,norm,l,k)*norm**2*(2*m-1)/2) * norm**2\n",
    "#energy = ( -Z*hbarc*alpha*expectation_1_r(a_i,norm,l,k)*m - hbarc**2/me*expectation_T(a_i,norm,l,k)*(2*m-1)/2 ) *norm**2\n",
    "print(\"E: {}\".format(energy) )\n",
    "print(\"T1: {}\".format( -hbarc**2/me *expectation_T(a_i,norm,l,k)*norm**2*(2*m-1) ) )\n",
    "print(\"V1: {}\".format( 2*-Z*hbarc*alpha*expectation_1_r(a_i,norm,l,k)*norm**2*m ) )\n",
    "print(\"V2: {}\".format( hbarc*alpha*expectation_1_r1_r2(a_i,a_f,norm,l,k)*norm**4*(2*m-1) ))\n",
    "\n",
    "print(\"Final a_i vector:\")\n",
    "print(a_i)\n",
    "print(\"Final k:\")\n",
    "print(k)"
   ]
  },
  {
   "cell_type": "code",
   "execution_count": 78,
   "metadata": {},
   "outputs": [
    {
     "name": "stdout",
     "output_type": "stream",
     "text": [
      "54.07506266233188\n",
      "-110.80431947812767\n",
      "17.20574137608042\n",
      "Total = -79.04703087943074\n"
     ]
    }
   ],
   "source": [
    "T = -hbarc**2/me *expectation_T(a_i,norm,l,k)*norm**2*(2*m-1)/2\n",
    "V1= -Z*hbarc*alpha*expectation_1_r(a_i,norm,l,k)*norm**2*m\n",
    "V2= hbarc*alpha*expectation_1_r1_r2(a_i,a_f,norm,l,k)*norm**4*(2*m-1)/2 * 2/3\n",
    "print( T )\n",
    "print( V1 )\n",
    "print( V2 )\n",
    "print( \"Total = {}\".format( 2*(T+V1+V2) ) ) "
   ]
  },
  {
   "cell_type": "code",
   "execution_count": 15,
   "metadata": {},
   "outputs": [
    {
     "name": "stdout",
     "output_type": "stream",
     "text": [
      "[ 7.83470575e-07  1.94288372e-06  3.82837707e-06 -3.28426388e-07\n",
      " -8.77950453e-09]\n",
      "[ 2.63979068e-07  1.18204662e-06  5.49001418e-06  2.17857623e-05\n",
      " -2.30529468e-06]\n",
      "[-2.03760569e-07 -1.08192360e-06 -5.79232629e-06 -2.58931071e-05\n",
      "  2.73180245e-06]\n"
     ]
    }
   ],
   "source": [
    "print( -hbarc**2/me*true_grad_T(a_i,norm,l,k) )\n",
    "print( -Z*hbarc*alpha*true_grad_1_r(a_i,norm,l,k) )\n",
    "print( hbarc*alpha*true_grad_1_r1_r2(a_i,a_f,norm,l,k) )"
   ]
  },
  {
   "cell_type": "code",
   "execution_count": 49,
   "metadata": {},
   "outputs": [
    {
     "data": {
      "text/plain": [
       "0.00023554529482301096"
      ]
     },
     "execution_count": 49,
     "metadata": {},
     "output_type": "execute_result"
    }
   ],
   "source": [
    "abs( 27.217808517 - 27.211399 ) / 27.211399"
   ]
  },
  {
   "cell_type": "code",
   "execution_count": 439,
   "metadata": {},
   "outputs": [
    {
     "data": {
      "text/plain": [
       "-48.6548375829603"
      ]
     },
     "execution_count": 439,
     "metadata": {},
     "output_type": "execute_result"
    }
   ],
   "source": [
    "-sqrt(2801360.1050845627)/34.4"
   ]
  },
  {
   "cell_type": "code",
   "execution_count": 409,
   "metadata": {},
   "outputs": [
    {
     "data": {
      "text/plain": [
       "[<matplotlib.lines.Line2D at 0x7f8de64329b0>]"
      ]
     },
     "execution_count": 409,
     "metadata": {},
     "output_type": "execute_result"
    },
    {
     "data": {
      "image/png": "[encoded data removed]",
      "text/plain": [
       "<matplotlib.figure.Figure at 0x7f8de64e7860>"
      ]
     },
     "metadata": {},
     "output_type": "display_data"
    }
   ],
   "source": [
    "plt.figure(1)\n",
    "plt.plot(energy_history)"
   ]
  },
  {
   "cell_type": "code",
   "execution_count": 255,
   "metadata": {},
   "outputs": [
    {
     "data": {
      "text/plain": [
       "array([0.04464954])"
      ]
     },
     "execution_count": 255,
     "metadata": {},
     "output_type": "execute_result"
    }
   ],
   "source": [
    "a_i = np.random.normal(1,1,m)\n",
    "a_i"
   ]
  },
  {
   "cell_type": "code",
   "execution_count": 412,
   "metadata": {},
   "outputs": [
    {
     "data": {
      "text/plain": [
       "-4.2612483662156355e-07"
      ]
     },
     "execution_count": 412,
     "metadata": {},
     "output_type": "execute_result"
    }
   ],
   "source": [
    "norm**2*k_grad"
   ]
  },
  {
   "cell_type": "code",
   "execution_count": 378,
   "metadata": {},
   "outputs": [
    {
     "data": {
      "text/plain": [
       "88.84626584923089"
      ]
     },
     "execution_count": 378,
     "metadata": {},
     "output_type": "execute_result"
    }
   ],
   "source": [
    "k"
   ]
  },
  {
   "cell_type": "code",
   "execution_count": 291,
   "metadata": {},
   "outputs": [
    {
     "data": {
      "text/plain": [
       "5.906907552881668e-10"
      ]
     },
     "execution_count": 291,
     "metadata": {},
     "output_type": "execute_result"
    }
   ],
   "source": [
    "k_grad_T(a_i,norm,l,k)"
   ]
  },
  {
   "cell_type": "code",
   "execution_count": 292,
   "metadata": {},
   "outputs": [
    {
     "data": {
      "text/plain": [
       "-9.451052084610668e-09"
      ]
     },
     "execution_count": 292,
     "metadata": {},
     "output_type": "execute_result"
    }
   ],
   "source": [
    "k_grad_1_r(a_i,norm,l,k)"
   ]
  },
  {
   "cell_type": "code",
   "execution_count": 341,
   "metadata": {},
   "outputs": [
    {
     "data": {
      "text/plain": [
       "1.4402762868157066"
      ]
     },
     "execution_count": 341,
     "metadata": {},
     "output_type": "execute_result"
    }
   ],
   "source": [
    "-Z*hbarc*alpha*true_k_grad_1_r(a_i,norm,l,k) - hbarc**2/me * true_k_grad_T(a_i,norm,l,k)"
   ]
  },
  {
   "cell_type": "code",
   "execution_count": 342,
   "metadata": {},
   "outputs": [
    {
     "data": {
      "text/plain": [
       "49.02484608813197"
      ]
     },
     "execution_count": 342,
     "metadata": {},
     "output_type": "execute_result"
    }
   ],
   "source": [
    "k -= -Z*hbarc*alpha*true_k_grad_1_r(a_i,norm,l,k) - hbarc**2/me * true_k_grad_T(a_i,norm,l,k)\n",
    "k"
   ]
  },
  {
   "cell_type": "code",
   "execution_count": 343,
   "metadata": {},
   "outputs": [
    {
     "name": "stdout",
     "output_type": "stream",
     "text": [
      "49.115277707152316\n",
      "0.08423203582920458\n",
      "50.46512237494758\n",
      "2.886579864025407e-15\n",
      "50.46512237494758\n",
      "2.886579864025407e-15\n",
      "50.46512237494758\n",
      "2.886579864025407e-15\n",
      "50.46512237494758\n",
      "2.886579864025407e-15\n",
      "50.46512237494758\n",
      "2.886579864025407e-15\n",
      "50.46512237494758\n",
      "2.886579864025407e-15\n",
      "50.46512237494758\n",
      "2.886579864025407e-15\n",
      "50.46512237494758\n",
      "2.886579864025407e-15\n",
      "50.46512237494758\n",
      "2.886579864025407e-15\n"
     ]
    }
   ],
   "source": [
    "for i in range(10000):\n",
    "    k += -Z*hbarc*alpha*true_k_grad_1_r(a_i,norm,l,k) - hbarc**2/me * true_k_grad_T(a_i,norm,l,k)/2 \n",
    "    if i%1000==0:\n",
    "        print( k )\n",
    "        print( -Z*hbarc*alpha*true_k_grad_1_r(a_i,norm,l,k) - hbarc**2/me * true_k_grad_T(a_i,norm,l,k)/2 ) "
   ]
  },
  {
   "cell_type": "code",
   "execution_count": 340,
   "metadata": {},
   "outputs": [
    {
     "data": {
      "text/plain": [
       "-2.4424906541753444e-15"
      ]
     },
     "execution_count": 340,
     "metadata": {},
     "output_type": "execute_result"
    }
   ],
   "source": [
    "-Z*hbarc*alpha*true_k_grad_1_r(a_i,norm,l,k) - hbarc**2/me * true_k_grad_T(a_i,norm,l,k)/2"
   ]
  },
  {
   "cell_type": "code",
   "execution_count": 400,
   "metadata": {},
   "outputs": [],
   "source": [
    "k_vec = []\n",
    "for k_j in range(10,80):\n",
    "    k_vec.append( (-Z*hbarc*alpha*expectation_1_r(a_i,get_norm(a_i,k_j,l),l,k_j)*m - hbarc**2/me * expectation_T(a_i,get_norm(a_i,k_j,l),l,k_j)*(2*m-1)/2 )*norm**2)"
   ]
  },
  {
   "cell_type": "code",
   "execution_count": 401,
   "metadata": {},
   "outputs": [
    {
     "data": {
      "text/plain": [
       "[<matplotlib.lines.Line2D at 0x7f8de64ba4a8>]"
      ]
     },
     "execution_count": 401,
     "metadata": {},
     "output_type": "execute_result"
    },
    {
     "data": {
      "image/png": "[encoded data removed]",
      "text/plain": [
       "<matplotlib.figure.Figure at 0x7f8de6492048>"
      ]
     },
     "metadata": {},
     "output_type": "display_data"
    }
   ],
   "source": [
    "plt.plot(k_vec)"
   ]
  },
  {
   "cell_type": "code",
   "execution_count": 339,
   "metadata": {},
   "outputs": [
    {
     "data": {
      "text/plain": [
       "0.09895801733536921"
      ]
     },
     "execution_count": 339,
     "metadata": {},
     "output_type": "execute_result"
    }
   ],
   "source": [
    "k_grad_norm(a_i,k,l)"
   ]
  },
  {
   "cell_type": "code",
   "execution_count": 295,
   "metadata": {},
   "outputs": [
    {
     "data": {
      "text/plain": [
       "670.9955006800835"
      ]
     },
     "execution_count": 295,
     "metadata": {},
     "output_type": "execute_result"
    }
   ],
   "source": [
    "norm"
   ]
  },
  {
   "cell_type": "code",
   "execution_count": 360,
   "metadata": {},
   "outputs": [
    {
     "data": {
      "text/plain": [
       "-0.013296564886795093"
      ]
     },
     "execution_count": 360,
     "metadata": {},
     "output_type": "execute_result"
    }
   ],
   "source": [
    "k_j = 50\n",
    "-Z*hbarc*alpha*true_k_grad_1_r(a_i,get_norm(a_i,k_j,l),l,k_j) - hbarc**2/me * true_k_grad_T(a_i,get_norm(a_i,k_j,l),l,k_j)/2"
   ]
  },
  {
   "cell_type": "code",
   "execution_count": 431,
   "metadata": {},
   "outputs": [
    {
     "data": {
      "text/plain": [
       "0.08213833083736048"
      ]
     },
     "execution_count": 431,
     "metadata": {},
     "output_type": "execute_result"
    }
   ],
   "source": [
    "abs(34.4-37.2255585808052)/34.4"
   ]
  },
  {
   "cell_type": "code",
   "execution_count": 76,
   "metadata": {},
   "outputs": [
    {
     "data": {
      "text/plain": [
       "0.75"
      ]
     },
     "execution_count": 76,
     "metadata": {},
     "output_type": "execute_result"
    }
   ],
   "source": [
    "abs(25.8)/34.4"
   ]
  },
  {
   "cell_type": "code",
   "execution_count": null,
   "metadata": {},
   "outputs": [],
   "source": []
  }
 ],
 "metadata": {
  "kernelspec": {
   "display_name": "Python 3",
   "language": "python",
   "name": "python3"
  },
  "language_info": {
   "codemirror_mode": {
    "name": "ipython",
    "version": 3
   },
   "file_extension": ".py",
   "mimetype": "text/x-python",
   "name": "python",
   "nbconvert_exporter": "python",
   "pygments_lexer": "ipython3",
   "version": "3.6.4"
  }
 },
 "nbformat": 4,
 "nbformat_minor": 2
}
